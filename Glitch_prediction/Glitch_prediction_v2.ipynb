{
  "nbformat": 4,
  "nbformat_minor": 0,
  "metadata": {
    "colab": {
      "provenance": []
    },
    "kernelspec": {
      "name": "python3",
      "display_name": "Python 3"
    },
    "language_info": {
      "name": "python"
    }
  },
  "cells": [
    {
      "cell_type": "code",
      "execution_count": 3,
      "metadata": {
        "id": "LhLPQyKIDIiu"
      },
      "outputs": [],
      "source": [
        "import numpy as np\n",
        "import matplotlib.pyplot as plt\n",
        "from scipy.optimize import curve_fit\n",
        "\n",
        "#file_p6=np.loadtxt(\"result.txt\", delimiter = \";\")\n",
        "result=np.loadtxt(\"result.dat\")\n",
        "\n",
        "MJD=np.zeros(len(result)-17)\n",
        "p6=np.zeros(len(result)-17)\n",
        "err_y=np.zeros(len(result)-17)\n",
        "\n",
        "\n",
        "for i in range(len(p6)):\n",
        "  MJD[i]=result[i+17][0]-result[17][0] #Me quedo con los datos post-glitch\n",
        "  p6[i]=result[i+17][3] \n",
        "  err_y[i]=result[i+17][4]\n",
        "\n",
        "p6_pre=np.zeros(16)\n",
        "for i in range(16):\n",
        "  p6_pre[i]=result[i][3]\n"
      ]
    },
    {
      "cell_type": "code",
      "source": [
        "F_ref = 1e-11"
      ],
      "metadata": {
        "id": "baPuXw1_DZoC"
      },
      "execution_count": 4,
      "outputs": []
    },
    {
      "cell_type": "code",
      "source": [
        "def eq_3_new(t, t_exp, I_exp_I_c,A):\n",
        "    return (-I_exp_I_c * (1.381518*1e-5 / F_ref) / (t_exp*24*3600) * np.exp(-t/t_exp)) + A\n",
        "\n",
        "def eq_9_new(t, t_nl, t_0, I_a_I_c):\n",
        "    return  I_a_I_c * -1.55645*(1e-11/F_ref) * (1-((1-(t_nl/t_0)*np.log(1+(np.exp(t_0/t_nl)-1)*np.exp(-t/t_nl)))/(1-np.exp(-t/t_nl))))\n",
        "\n",
        "def eq_11_new(t, t_0, I_a_I_c):\n",
        "    return I_a_I_c * -1.55645*(1e-11/F_ref) * (1.0-t/t_0) \n",
        "\n",
        "def modelo_1(t,t_exp,I_exp_I_c, A,t_nl, t_0, I_a_I_c):\n",
        "    return eq_3_new(t, t_exp, I_exp_I_c,A) + eq_9_new(t, t_nl, t_0, I_a_I_c)\n",
        "\n",
        "def modelo_2(t,t_exp,I_exp_I_c, A,t_0, I_a_I_c):\n",
        "    return eq_3_new(t, t_exp, I_exp_I_c,A) + eq_11_new(t, t_0, I_a_I_c)\n",
        "\n",
        "#Modelo 1:\n",
        "\n",
        "p6_new = [p/F_ref for p in p6]\n",
        "err_y_new = [e/F_ref for e in err_y]\n",
        "\n",
        "ini_1 = [6,0.01,-1.54,6, 1000, 0.006]\n",
        "bs_1 = ([1,1e-3,-1.6,1,100,1e-3],[50,1e-1,-1.4,20,2000,1e-1]) # ( min values, max values ) = ( (min_n, ...), (max_n, ...) )\n",
        "pars_1, cov_1 = curve_fit(f=modelo_1, xdata=MJD, ydata=p6_new, sigma=err_y_new, p0=ini_1,\n",
        "                        absolute_sigma=True, bounds=bs_1)\n",
        "\n",
        "ini_2 = [6, 1e-2,-1.54, 1000, 0.006]\n",
        "bs_2 = ([1, 1e-3, -1.6,100, 1e-3],[50, 1e-1,-1.4, 2000, 1e-1]) # ( min values, max values ) = ( (min_n, ...), (max_n, ...) )\n",
        "pars_2, cov_2 = curve_fit(f=modelo_2, xdata=MJD, ydata=p6_new, sigma=err_y_new, p0=ini_2,\n",
        "                        absolute_sigma=True, bounds=bs_2)\n",
        "\n",
        "lins=np.linspace(0,320,1000)\n",
        "\n",
        "plt.figure(figsize=(5,5))\n",
        "plt.errorbar(MJD, p6_new, yerr=err_y_new, label=\"F1\", fmt=\".\", color=\"black\")\n",
        "plt.plot(lins, modelo_1(lins,*pars_1), label=\"Modelo 1\", color=\"red\", linestyle=\"--\",linewidth=2)\n",
        "plt.plot(lins, modelo_2(lins,*pars_2), label=\"Modelo 2\", color=\"blue\", linestyle=\"--\")\n",
        "plt.grid()\n",
        "plt.legend()\n",
        "#plt.savefig(\"Ajuste\")\n",
        "plt.show()\n",
        "\n",
        "\n",
        "perr1 = np.sqrt(np.diag(cov_1))\n",
        "Texp1, Iexp_IC1, A1, Tnl1, t01, Ia_Ic1 = pars_1 # [0], pars_2[1], pars_11[2]\n",
        "\n",
        "perr2 = np.sqrt(np.diag(cov_2))\n",
        "Texp2, Iexp_IC2, A2, t02, Ia_Ic2 = pars_2 # [0], pars_2[1], pars_11[2]\n",
        "\n",
        "print(\"\\nModel 1:\")\n",
        "print(f\"{Texp1 = :.2f} +/- {perr1[0]:.2f}\")\n",
        "print(f\"{Iexp_IC1 = :.4f} +/- {perr1[1]:.4f}\")\n",
        "print(f\"{A1 = :.3f} +/- {perr1[2]:.3f}\")\n",
        "print(f\"{Tnl1 = :.2f} +/- {perr1[3]:.2f}\")\n",
        "print(f\"{t01 = :.2f} +/- {perr1[4]:.2f}\")\n",
        "print(f\"{Ia_Ic1 = :.5f} +/- {perr1[5]:.5f}\")\n",
        "\n",
        "print(\"\\nRelative errors:\")\n",
        "print(f\"{perr1[0]/Texp1 = :.2f}\")\n",
        "print(f\"{perr1[1]/Iexp_IC1 = :.2f}\")\n",
        "print(f\"{perr1[2]/A1 = :.2f}\")\n",
        "print(f\"{perr1[3]/Tnl1 = :.2f}\")\n",
        "print(f\"{perr1[4]/t01 = :.2f}\")\n",
        "print(f\"{perr1[5]/Ia_Ic1 = :.5f}\")\n",
        "\n",
        "print(\"\\nModel 2:\")\n",
        "print(f\"{Texp2 = :.2f} +/- {perr2[0]:.2f}\")\n",
        "print(f\"{Iexp_IC2 = :.4f} +/- {perr2[1]:.4f}\")\n",
        "print(f\"{A2 = :.2f} +/- {perr2[2]:.2f}\")\n",
        "print(f\"{t02 = :.2f} +/- {perr2[3]:.2f}\")\n",
        "print(f\"{Ia_Ic2 = :.5f} +/- {perr2[4]:.5f}\")\n",
        "\n",
        "print(\"\\nRelative errors:\")\n",
        "print(f\"{perr2[0]/Texp2 = :.2f}\")\n",
        "print(f\"{perr2[1]/Iexp_IC2 = :.2f}\")\n",
        "print(f\"{perr2[2]/A2 = :.2f}\")\n",
        "print(f\"{perr2[3]/t02 = :.2f}\")\n",
        "print(f\"{perr2[4]/Ia_Ic2 = :.5f}\")"
      ],
      "metadata": {
        "colab": {
          "base_uri": "https://localhost:8080/",
          "height": 489
        },
        "id": "Zo60G7b-DeF_",
        "outputId": "94da23c4-b4ca-44f3-e958-40ff82c6ca67"
      },
      "execution_count": 5,
      "outputs": [
        {
          "output_type": "stream",
          "name": "stderr",
          "text": [
            "<ipython-input-5-522065f010a2>:5: RuntimeWarning: invalid value encountered in true_divide\n",
            "  return  I_a_I_c * -1.55645*(1e-11/F_ref) * (1-((1-(t_nl/t_0)*np.log(1+(np.exp(t_0/t_nl)-1)*np.exp(-t/t_nl)))/(1-np.exp(-t/t_nl))))\n"
          ]
        },
        {
          "output_type": "error",
          "ename": "ValueError",
          "evalue": "ignored",
          "traceback": [
            "\u001b[0;31m---------------------------------------------------------------------------\u001b[0m",
            "\u001b[0;31mValueError\u001b[0m                                Traceback (most recent call last)",
            "\u001b[0;32m<ipython-input-5-522065f010a2>\u001b[0m in \u001b[0;36m<cell line: 23>\u001b[0;34m()\u001b[0m\n\u001b[1;32m     21\u001b[0m \u001b[0mini_1\u001b[0m \u001b[0;34m=\u001b[0m \u001b[0;34m[\u001b[0m\u001b[0;36m6\u001b[0m\u001b[0;34m,\u001b[0m\u001b[0;36m0.01\u001b[0m\u001b[0;34m,\u001b[0m\u001b[0;34m-\u001b[0m\u001b[0;36m1.54\u001b[0m\u001b[0;34m,\u001b[0m\u001b[0;36m6\u001b[0m\u001b[0;34m,\u001b[0m \u001b[0;36m1000\u001b[0m\u001b[0;34m,\u001b[0m \u001b[0;36m0.006\u001b[0m\u001b[0;34m]\u001b[0m\u001b[0;34m\u001b[0m\u001b[0;34m\u001b[0m\u001b[0m\n\u001b[1;32m     22\u001b[0m \u001b[0mbs_1\u001b[0m \u001b[0;34m=\u001b[0m \u001b[0;34m(\u001b[0m\u001b[0;34m[\u001b[0m\u001b[0;36m1\u001b[0m\u001b[0;34m,\u001b[0m\u001b[0;36m1e-3\u001b[0m\u001b[0;34m,\u001b[0m\u001b[0;34m-\u001b[0m\u001b[0;36m1.6\u001b[0m\u001b[0;34m,\u001b[0m\u001b[0;36m1\u001b[0m\u001b[0;34m,\u001b[0m\u001b[0;36m100\u001b[0m\u001b[0;34m,\u001b[0m\u001b[0;36m1e-3\u001b[0m\u001b[0;34m]\u001b[0m\u001b[0;34m,\u001b[0m\u001b[0;34m[\u001b[0m\u001b[0;36m50\u001b[0m\u001b[0;34m,\u001b[0m\u001b[0;36m1e-1\u001b[0m\u001b[0;34m,\u001b[0m\u001b[0;34m-\u001b[0m\u001b[0;36m1.4\u001b[0m\u001b[0;34m,\u001b[0m\u001b[0;36m20\u001b[0m\u001b[0;34m,\u001b[0m\u001b[0;36m2000\u001b[0m\u001b[0;34m,\u001b[0m\u001b[0;36m1e-1\u001b[0m\u001b[0;34m]\u001b[0m\u001b[0;34m)\u001b[0m \u001b[0;31m# ( min values, max values ) = ( (min_n, ...), (max_n, ...) )\u001b[0m\u001b[0;34m\u001b[0m\u001b[0;34m\u001b[0m\u001b[0m\n\u001b[0;32m---> 23\u001b[0;31m pars_1, cov_1 = curve_fit(f=modelo_1, xdata=MJD, ydata=p6_new, sigma=err_y_new, p0=ini_1,\n\u001b[0m\u001b[1;32m     24\u001b[0m                         absolute_sigma=True, bounds=bs_1)\n\u001b[1;32m     25\u001b[0m \u001b[0;34m\u001b[0m\u001b[0m\n",
            "\u001b[0;32m/usr/local/lib/python3.9/dist-packages/scipy/optimize/_minpack_py.py\u001b[0m in \u001b[0;36mcurve_fit\u001b[0;34m(f, xdata, ydata, p0, sigma, absolute_sigma, check_finite, bounds, method, jac, full_output, **kwargs)\u001b[0m\n\u001b[1;32m    868\u001b[0m             \u001b[0mkwargs\u001b[0m\u001b[0;34m[\u001b[0m\u001b[0;34m'max_nfev'\u001b[0m\u001b[0;34m]\u001b[0m \u001b[0;34m=\u001b[0m \u001b[0mkwargs\u001b[0m\u001b[0;34m.\u001b[0m\u001b[0mpop\u001b[0m\u001b[0;34m(\u001b[0m\u001b[0;34m'maxfev'\u001b[0m\u001b[0;34m,\u001b[0m \u001b[0;32mNone\u001b[0m\u001b[0;34m)\u001b[0m\u001b[0;34m\u001b[0m\u001b[0;34m\u001b[0m\u001b[0m\n\u001b[1;32m    869\u001b[0m \u001b[0;34m\u001b[0m\u001b[0m\n\u001b[0;32m--> 870\u001b[0;31m         res = least_squares(func, p0, jac=jac, bounds=bounds, method=method,\n\u001b[0m\u001b[1;32m    871\u001b[0m                             **kwargs)\n\u001b[1;32m    872\u001b[0m \u001b[0;34m\u001b[0m\u001b[0m\n",
            "\u001b[0;32m/usr/local/lib/python3.9/dist-packages/scipy/optimize/_lsq/least_squares.py\u001b[0m in \u001b[0;36mleast_squares\u001b[0;34m(fun, x0, jac, bounds, method, ftol, xtol, gtol, x_scale, loss, f_scale, diff_step, tr_solver, tr_options, jac_sparsity, max_nfev, verbose, args, kwargs)\u001b[0m\n\u001b[1;32m    835\u001b[0m \u001b[0;34m\u001b[0m\u001b[0m\n\u001b[1;32m    836\u001b[0m     \u001b[0;32mif\u001b[0m \u001b[0;32mnot\u001b[0m \u001b[0mnp\u001b[0m\u001b[0;34m.\u001b[0m\u001b[0mall\u001b[0m\u001b[0;34m(\u001b[0m\u001b[0mnp\u001b[0m\u001b[0;34m.\u001b[0m\u001b[0misfinite\u001b[0m\u001b[0;34m(\u001b[0m\u001b[0mf0\u001b[0m\u001b[0;34m)\u001b[0m\u001b[0;34m)\u001b[0m\u001b[0;34m:\u001b[0m\u001b[0;34m\u001b[0m\u001b[0;34m\u001b[0m\u001b[0m\n\u001b[0;32m--> 837\u001b[0;31m         \u001b[0;32mraise\u001b[0m \u001b[0mValueError\u001b[0m\u001b[0;34m(\u001b[0m\u001b[0;34m\"Residuals are not finite in the initial point.\"\u001b[0m\u001b[0;34m)\u001b[0m\u001b[0;34m\u001b[0m\u001b[0;34m\u001b[0m\u001b[0m\n\u001b[0m\u001b[1;32m    838\u001b[0m \u001b[0;34m\u001b[0m\u001b[0m\n\u001b[1;32m    839\u001b[0m     \u001b[0mn\u001b[0m \u001b[0;34m=\u001b[0m \u001b[0mx0\u001b[0m\u001b[0;34m.\u001b[0m\u001b[0msize\u001b[0m\u001b[0;34m\u001b[0m\u001b[0;34m\u001b[0m\u001b[0m\n",
            "\u001b[0;31mValueError\u001b[0m: Residuals are not finite in the initial point."
          ]
        }
      ]
    },
    {
      "cell_type": "code",
      "source": [],
      "metadata": {
        "id": "Nt9UM2ULDeC0"
      },
      "execution_count": null,
      "outputs": []
    }
  ]
}
